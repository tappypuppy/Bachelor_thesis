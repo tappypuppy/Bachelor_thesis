{
 "cells": [
  {
   "cell_type": "markdown",
   "id": "55688b53",
   "metadata": {},
   "source": [
    "# 常微分方程式の周期解の数値計算\n",
    "\n",
    "$\\newcommand{\\im}{\\mathrm{i}}$\n",
    "常微分方程式の一つであるvan der Pol方程式の周期解の数値計算をまず行い、得た近似解をもとに解の精度保証の方法を紹介する。\n",
    "\n",
    "### van der Pol 方程式\n",
    "van der Pol方程式とは、以下のような方程式である。\n",
    "\n",
    "$$\n",
    "\\frac{d^2 x}{dt^2} - \\mu (1-x^2)\\frac{dx}{dt} + x = 0.\n",
    "$$\n",
    "\n",
    "$x(t)$ が未知関数で、$\\mu>0$ は非線形の減衰の強さを表すパラメータである。van der Pol方程式をJulia言語の`DifferentialEquations.jl`というパッケージを使って解の挙動を数値計算する。\n",
    "\n",
    "van der Pol 方程式を次の連立常微分方程式系にして`DifferentialEquations.jl`のODEソルバーで数値計算する。\n",
    "\n",
    "$$\n",
    "\\begin{cases}\n",
    "\\dot{x} = y\\\\\n",
    "\\dot{y} = \\mu (1-x^2)y - x\n",
    "\\end{cases}\n",
    "$$\n"
   ]
  },
  {
   "cell_type": "code",
   "execution_count": null,
   "id": "baeba659",
   "metadata": {
    "tags": []
   },
   "outputs": [],
   "source": [
    "using DifferentialEquations\n",
    "\n",
    "function vanderpol(du, u , μ ,t)\n",
    "    x,y = u\n",
    "    du[1] = y\n",
    "    du[2] = μ*(1- x ^2)*y - x\n",
    "end"
   ]
  },
  {
   "cell_type": "markdown",
   "id": "fb9bb637",
   "metadata": {},
   "source": [
    "初期値 $x(0)=0$, $y(0)=2$とし, $\\mu=1$ のときの数値計算は以下のように実行できる。"
   ]
  },
  {
   "cell_type": "code",
   "execution_count": null,
   "id": "72dfb38f",
   "metadata": {},
   "outputs": [],
   "source": [
    "u₀ = [0.0; 2.0]\n",
    "tspan = (0.0, 300)\n",
    "μ = 1.0\n",
    "prob = ODEProblem(vanderpol, u₀, tspan, μ)\n",
    "sol = solve(prob,Tsit5(),reltol=1e-8,abstol=1e-8)"
   ]
  },
  {
   "cell_type": "code",
   "execution_count": null,
   "id": "34d97fef",
   "metadata": {},
   "outputs": [],
   "source": [
    "using Plots\n",
    "plot(sol,vars=(1,2))"
   ]
  },
  {
   "cell_type": "code",
   "execution_count": null,
   "id": "77f6da33",
   "metadata": {},
   "outputs": [],
   "source": [
    "u = hcat(sol.u...)"
   ]
  },
  {
   "cell_type": "code",
   "execution_count": null,
   "id": "b2566dd7",
   "metadata": {},
   "outputs": [],
   "source": [
    "ind = floor(Int, length(sol.t)/2)\n",
    "plot(u[1, ind:end], u[2, ind:end], legend=false)"
   ]
  },
  {
   "cell_type": "markdown",
   "id": "62236e83",
   "metadata": {},
   "source": [
    "### Newton法の初期値の設定\n",
    "\n",
    "まず、フーリエ級数の係数を求めるために、van der Pol方程式の周期解の周期を大まかに求める。"
   ]
  },
  {
   "cell_type": "code",
   "execution_count": null,
   "id": "f2a125d9",
   "metadata": {
    "tags": []
   },
   "outputs": [],
   "source": [
    "#おおよその周期\n",
    "# a = 30\n",
    "# b = 36.55\n",
    "a = 30\n",
    "app_period = 6.55\n",
    "timestep = 0.1\n",
    "\n",
    "f_tmp = sol(a+app_period/2:timestep:a+3*app_period/2)\n",
    "find_period = abs.(f_tmp .- sol(a))\n",
    "(~,ind) = findmin(find_period[1,:])\n",
    "b = a+app_period/2 + timestep*(ind-1)\n",
    "# abs.(sol(b) .- sol(a))"
   ]
  },
  {
   "cell_type": "code",
   "execution_count": null,
   "id": "10e81ea1",
   "metadata": {},
   "outputs": [],
   "source": [
    "#a function of  fourier coeffs (lecture7参照)\n",
    "using FFTW\n",
    "function odefouriercoeffs(f, I, N, n=1)\n",
    "    a = I[1]; b = I[2];\n",
    "    # x_j: equidistance node points\n",
    "    h = (b-a)/(2N-1)\n",
    "    j = 0:2N-2\n",
    "    xⱼ = a .+ j*h\n",
    "    # f_j: function values on node points\n",
    "    fⱼ = f(xⱼ)[n,:]\n",
    "    return (fftshift(fft(fⱼ)))/(2*N-1)\n",
    "end"
   ]
  },
  {
   "cell_type": "code",
   "execution_count": null,
   "id": "bdf80528",
   "metadata": {},
   "outputs": [],
   "source": [
    "#calc fouriercoeffs\n",
    "N = 61 # size of Fourier\n",
    "a₀ = odefouriercoeffs(sol,[a,b],N)"
   ]
  },
  {
   "cell_type": "code",
   "execution_count": null,
   "id": "092e3b28",
   "metadata": {},
   "outputs": [],
   "source": [
    "function plot_solution(u, index) # u = [ω, a_{-N+1}, ..., a_0, ..., a_{N-1}], length(u) = 2N\n",
    "    # index = 1: profile of solution\n",
    "    #         2: Fourier mode\n",
    "    #         3: phase profile\n",
    "    ω = real(u[1])\n",
    "    L = 2π / ω\n",
    "    a = u[2:end]\n",
    "    N = length(u)/2 # N: size of Fourier\n",
    "    n_pad = 1000\n",
    "    a_pad = [zeros(n_pad);a;zeros(n_pad)]\n",
    "    N_pad = N + n_pad    \n",
    "    dx = L/(2*N_pad-1)\n",
    "    x = dx*(0:2*N_pad-2)\n",
    "    if index == 1\n",
    "    # Plot profile:\n",
    "        plot(x,real((2N_pad-1)*ifft(ifftshift(a_pad))),\n",
    "            xlabel = \"\\$t\\$\",\n",
    "            ylabel = \"\\$x\\\\,(t)\\$\",\n",
    "            line   = 1.6,\n",
    "            title  = \"Profile of solution\",\n",
    "            size   = (720,400),\n",
    "            legend = false,\n",
    "        )\n",
    "    elseif index == 2\n",
    "    # Plot Fourier coefficients:\n",
    "        plot((-N+1):(N-1),abs.(a),yscale=:log10,\n",
    "            xlabel = \"\\$k\\$\",\n",
    "            ylabel = \"\\$|a_k\\\\,|\\$\",\n",
    "            line   = 1.6,\n",
    "            title  = \"Fourier coefficients of solution\",\n",
    "            size   = (720,400),\n",
    "            legend = false,\n",
    "        )\n",
    "    elseif index == 3\n",
    "    # Plot phase:\n",
    "      k = (-N_pad+1):(N_pad-1)\n",
    "      plot(real((2N_pad-1)*ifft(ifftshift(a_pad))),real((2N_pad-1)*ifft(ifftshift(a_pad.*(im*k*ω)))),\n",
    "            xlabel = \"\\$x(t)\\$\",\n",
    "            ylabel = \"\\$\\\\dot{x}\\\\,(t)\\$\",\n",
    "            line   = 1.6,\n",
    "            title  = \"Phase plot of a numerical solution\",\n",
    "            size   = (720,400),\n",
    "            legend = false,\n",
    "        )\n",
    "    end\n",
    "end\n",
    "function plot_solution!(u)\n",
    "    L = 2π/real(u[1])\n",
    "    a = u[2:end]\n",
    "    N = length(u)/2\n",
    "    n_pad = 1000\n",
    "    a_pad = [zeros(n_pad);a;zeros(n_pad)]\n",
    "    N_pad = N+n_pad\n",
    "    k = (-N_pad+1):(N_pad-1)\n",
    "    dx = L/(2*N_pad-1)\n",
    "    x = dx*(0:2*N_pad-2)\n",
    "    plot!(real((2N_pad-1)*ifft(ifftshift(a_pad))),real((2N_pad-1)*ifft(ifftshift(a_pad.*(im*k)))),line=1.6,)\n",
    "end"
   ]
  },
  {
   "cell_type": "code",
   "execution_count": null,
   "id": "93e01d04",
   "metadata": {},
   "outputs": [],
   "source": [
    "x0 = [2*pi/(b-a);a₀]\n",
    "plot_solution!(x0)"
   ]
  },
  {
   "cell_type": "markdown",
   "id": "c70c466d",
   "metadata": {},
   "source": [
    "### Newton法を用いた周期解の求め方\n",
    "\n",
    "van der Pol方程式は、$\\dot{x} = \\frac{dx}{dt}$とおくと、以下のように表すことができる。\n",
    "\n",
    "$$\n",
    "\\ddot{x} - \\mu(1-x^2)\\dot{x} + x = 0\n",
    "$$\n",
    "\n",
    "\n",
    "\n",
    "後の計算のために、式を少し整理すると、\n",
    "\n",
    "$$\n",
    "\\ddot{x} - \\mu\\dot{x} + \\frac{\\mu}{3} \\dot{(x^3)} + x = 0\n",
    "$$\n",
    "\n",
    "と書ける。\n",
    "\n",
    "また、周期解$x(t)$を周期$L$の周期関数とし、$\\omega = \\frac{2\\pi}{L}$とおくと、$x(t)$とその微分や$2$乗はフーリエ級数を使って、\n",
    "\n",
    "\\begin{align*}\n",
    "x(t) &= \\sum_{k \\in \\mathbb{Z}} a_k e^{\\im k\\omega t}\\\\\n",
    "\\frac{dx(t)}{dt} &= \\sum_{k \\in \\mathbb{Z}}(\\im k \\omega) a_k e^{\\im k \\omega t} \\\\\n",
    "\\frac{d^2 x(t)}{dt^2} &= \\sum_{k \\in \\mathbb{Z}} (-  k^2 \\omega^2 )a_k e^{\\im k\\omega t} \\\\\n",
    "x(t)^3 &= \\sum_{k \\in \\mathbb{Z}} (a * a * a)_k e^{\\im k \\omega t}\n",
    "\\end{align*}\n",
    "\n",
    "と書くことができる。ここで\n",
    "\n",
    "$$\n",
    "(a * a * a)_k := \\sum_{\\substack{k_1+k_2+k_3 = k\\\\k_i\\in\\mathbb{Z}}} a_{k_1}a_{k_2}\n",
    "a_{k_3},\\quad k\\in\\mathbb{Z}\n",
    "$$\n",
    "\n",
    "は3次の離散たたみこみである。\n",
    "\n"
   ]
  },
  {
   "cell_type": "markdown",
   "id": "35afbc88",
   "metadata": {},
   "source": [
    "$\\newcommand{\\bx}{\\mathrm x}$\n",
    "\n",
    "\n",
    "以上の式を用いて、フーリエ係数に関する式を立てる。$a = (a_k)_{k \\in \\mathbb{Z}}$に対して、van der Pol方程式に求めたフーリエ級数を代入すると、\n",
    "\n",
    "$$\n",
    "f_k(a) := -k^2\\omega^2 a_k - \\mu\\im k \\omega a_k + \\frac{\\mu }{3}(\\im k \\omega)(a*a*a)_k + a_k\n",
    "$$\n",
    "\n",
    "となる点列 $\\left(f_k(a)\\right)_{k\\in\\mathbb{Z}}$がえられる。そして、点列 $a$ がvan der Pol方程式の解のフーリエ係数になっているならば、各 $k\\in\\mathbb{Z}$ について\n",
    "\n",
    "$$\n",
    "f_k(a) = 0\n",
    "$$\n",
    "\n",
    "となる。このときの未知数は周波数 $\\omega$ と点列 $a$ であり、これらを並べて $\\bx = (\\omega,a)$ と書くことにする。未知数 $\\bx$ に対して、$f_k(a) = 0$ という方程式だけでは不定な方程式になるため、解の形を一つに定める事ができない。そこで、位相条件\n",
    "\n",
    "\\begin{align*}\n",
    "    \\eta (a) &:= \\sum_{|k|<N} a_k - \\eta_0=0, \\quad \\eta_0 \\in \\mathbb{R} \\\\\n",
    "\\end{align*}\n",
    "\n",
    "を加える。この条件は $x(t)$ の初期値 $x(0) = \\eta_0$ を表している。最終的に van der Pol 方程式の周期解の求解は次の代数方程式を解くことに帰着される。\n",
    "\n",
    "$$\n",
    "    F(\\bx) := \n",
    "    \\begin{bmatrix}\n",
    "    \\eta (a) \\\\\n",
    "    (f_k(a)_{k\\in\\mathbb{Z}}\n",
    "    \\end{bmatrix}\n",
    "    =0.\n",
    "$$\n",
    "\n",
    "以下、この零点探索問題 $F(\\bx)=0$ について Newton 法で解を得ることを考える。まず $N$ をフーリエ係数の打ち切り番号（最大波数:$N-1$）とし、周期解の近似を次のように構成する。\n",
    "\n",
    "$$\n",
    " \\bar{x}(t) = \\sum_{|k|<N} \\bar{a}_k e^{\\im k \\bar\\omega t}.\n",
    "$$\n",
    "\n",
    "このとき、フーリエ係数と（近似）周期をならべた\n",
    "\n",
    "$$\n",
    "    \\bar{\\bx} = (\\bar\\omega, \\bar{a}_{-N+1},\\dots,\\bar{a}_{N-1})\\in \\mathbb{C}^{2N}\n",
    "$$\n",
    "\n",
    "を近似解とよぶ。近似解 $\\bar \\bx$ の未知数は $2N$ 個。そして $f_k(a)=0$ を $|k|<N$ の範囲で打ち切る方程式\n",
    "\n",
    "$$\n",
    "    F^{(N)}(\\bx^{(N)}) = \n",
    "    \\begin{bmatrix}\n",
    "    \\eta (a^{(N)}) \\\\\n",
    "    (f_k(a^{(N)}))_{k < |N|}\n",
    "    \\end{bmatrix}\n",
    "    =0\n",
    "$$\n",
    "\n",
    "を考える。ここで $a^{(N)} = (a_k)_{|k|<N}$, $\\bx^{(N)} = (\\omega,a^{(N)})$ をそれぞれ表し、$F^{(N)}:\\mathbb{C}^{2N}\\to \\mathbb{C}^{2N}$ である。したがって $F^{(N)}(\\bx^{(N)}) = 0$ という有限次元の非線形方程式を解くことで、近似解 $\\bar \\bx$ が得られる。\n",
    "\n"
   ]
  },
  {
   "cell_type": "markdown",
   "id": "e0d6da43",
   "metadata": {},
   "source": [
    "### Newton法による周期解の数値計算\n",
    "\n",
    "これから、実際にNewton法を用いて、周期解の数値計算を行っていく。\n",
    "\n",
    "Newton法の式は、ある適当な初期値 $\\bx_0$ を最初に定め、以下の反復計算によって計算できる。\n",
    "\n",
    "$$\n",
    "    \\bx_{n+1} = \\bx_n - DF^{(N)}(\\bx_n)^{-1} F^{(N)}(\\bx_n),\\quad n=0,1,\\dots\n",
    "$$\n",
    "\n",
    "このことから、$DF^{(N)}(\\bx_n)^{-1}$ と $F^{(N)}(\\bx_n)$ を計算することができれば、近似解を得ることができる。"
   ]
  },
  {
   "cell_type": "code",
   "execution_count": null,
   "id": "21c79079",
   "metadata": {
    "tags": []
   },
   "outputs": [],
   "source": [
    "function powerconvfourier(a::Vector{Complex{T}},p) where T\n",
    "    M = Int((length(a)+1)/2)\n",
    "    N = (p-1)*M\n",
    "    ta = [zeros(N,1);a;zeros(N,1)] # 1. Padding zeros: size(ta) = 2pM-1\n",
    "    tb = ifft(ifftshift(ta)) # 2. IFFT of ta\n",
    "    tbᵖ = tb.^p # 3. tb*^tb\n",
    "    cᵖ = fftshift(fft(tbᵖ))*(2.0*p*M-1)^(p-1)\n",
    "    return cᵖ[N+1:end-N], cᵖ[p:end-(p-1)]# return (truncated, full) version\n",
    "end"
   ]
  },
  {
   "cell_type": "markdown",
   "id": "14a25db3",
   "metadata": {},
   "source": [
    "`F_fourier`は $F^{(N)}(\\bx_n)$ を計算している。"
   ]
  },
  {
   "cell_type": "code",
   "execution_count": null,
   "id": "4ff51257",
   "metadata": {},
   "outputs": [],
   "source": [
    "function F_fourier(x, μ, η₀)\n",
    "    N = length(x)/2\n",
    "    ω = x[1]\n",
    "    a = x[2:end]\n",
    "    (a³,~) = powerconvfourier(a,3)\n",
    "    eta = sum(a) - η₀\n",
    "\n",
    "    k = -(N-1):(N-1)\n",
    "    f = (- k.^2 * ω^2 - μ* im * k * ω .+ 1) .* a + μ*im * k *ω .* a³ / 3\n",
    "\n",
    "    return [eta;f]\n",
    "end"
   ]
  },
  {
   "cell_type": "markdown",
   "id": "3905a6f1",
   "metadata": {},
   "source": [
    "### ヤコビ行列の計算式\n",
    "\n",
    "$F^{(N)}(\\bx^{(N)})$のヤコビ行列は、\n",
    "\n",
    "\n",
    "\n",
    "$$\n",
    "    DF^{(N)}(x^{(N)}) =\n",
    "    \\left[\\begin{array}{c|ccc}\n",
    "    0 & 1 & \\dots & 1\\\\\\hline\n",
    "    \\vdots & &\\vdots&\\\\\n",
    "    \\partial_{\\omega}f_k& \\dots & \\partial_{a_j}f_k & \\dots\\\\\n",
    "    \\vdots & &\\vdots& \n",
    "    \\end{array}\\right]\\in\\mathbb{C}^{2N\\times 2N}\\quad (|k|,|j|<N).\n",
    "$$\n",
    "\n",
    "ここで、\n",
    "\n",
    "$$\n",
    "    \\begin{cases}\n",
    "    \\partial_\\omega f_k = (-2k^2 \\omega - \\mu \\im k) a_k + \\frac{\\mu \\im k}{3}(a*a*a)_k & (|k|<N)\\\\\n",
    "    \\partial_{a_j} f_k = (-k^2 \\omega^2 - \\mu \\im k \\omega + 1) \\delta_{kj} + \\mu \\im k \\omega (a*a)_{k-j}&(|k|,|j|<N)\n",
    "    \\end{cases},\\quad \\delta_{kj} = \\begin{cases} 1 & (k=j)\\\\ 0 & (k\\neq j)\n",
    "    \\end{cases}\n",
    "$$\n",
    "\n",
    "である。ヤコビ行列の各要素との対応は\n",
    "\n",
    "$$\n",
    "\\left(DF^{(N)}(x^{(N)})\\right)_{\\ell,m} = \n",
    "\\begin{cases}\n",
    "0 \\ &(\\ell=m=1) \\\\\n",
    "1 \\ &(\\ell=1, m = 2 \\cdots 2N) \\\\\n",
    "\\partial_\\omega f_k &(\\ell = 2 \\cdots 2N, m = 1,~\\mbox{i.e.},~\\ell = k + N + 1~\\mbox{for}~|k|<N)\\\\\n",
    "\\partial_{a_j} f_k &(\\ell,m = 2 \\cdots 2N,~\\mbox{i.e.},~\\ell = k + N + 1~\\mbox{for}~|k|<N,~m = j + N + 1~\\mbox{for}~|j|<N)\n",
    "\\end{cases}\n",
    "$$\n"
   ]
  },
  {
   "cell_type": "code",
   "execution_count": null,
   "id": "d320f188",
   "metadata": {},
   "outputs": [],
   "source": [
    "function DF_fourier(x, μ)\n",
    "    N = Int((length(x))/2)\n",
    "    ω = x[1]\n",
    "    a = x[2:end]\n",
    "    k = (-N+1):(N-1)\n",
    "    (a³,~) = powerconvfourier(a,3)\n",
    "\n",
    "    DF = zeros(ComplexF64,2N,2N)\n",
    "\n",
    "    DF[1,2:end] .= 1\n",
    "    DF[2:end,1] = (- 2*ω*k.^2 - μ*im*k) .* a + μ*im*k .*a³/3\n",
    "\n",
    "    (~,a2) = powerconvfourier(a,2)\n",
    "    \n",
    "    M = zeros(ComplexF64,2*N-1, 2*N-1)\n",
    "\n",
    "    for j=(-N+1):(N-1)\n",
    "        M[k.+N, j+N] = μ*im*k*ω.*a2[k.-j.+(2*N-1)]\n",
    "    end\n",
    "    \n",
    "    L = diagm(- k.^2 * ω^2 - μ* im * k * ω .+ 1)\n",
    "    \n",
    "    DF[2:end,2:end] = L + M\n",
    "    return DF\n",
    "end"
   ]
  },
  {
   "cell_type": "code",
   "execution_count": null,
   "id": "08fd8912",
   "metadata": {},
   "outputs": [],
   "source": [
    "plot_solution(x0, 3)"
   ]
  },
  {
   "cell_type": "markdown",
   "id": "c54be265",
   "metadata": {},
   "source": [
    "### Newton法の反復\n",
    "\n",
    "$$\n",
    "    x_{n+1} = x_n - DF^{(N)}(x_n)^{-1} F^{(N)}(x_n)\n",
    "$$\n",
    "\n",
    "$x_0$を初期値とし、$F(\\bar x)\\approx 0$ となる $\\bar x \\in \\mathbb{C}^{2N}$ を求める。"
   ]
  },
  {
   "cell_type": "code",
   "execution_count": null,
   "id": "8dee3030",
   "metadata": {},
   "outputs": [],
   "source": [
    "using LinearAlgebra\n",
    "# Initial value of Newton method\n",
    "η₀ = real(sum(x0[2:end]))\n",
    "# η₀ = 0\n",
    "x = x0\n",
    "\n",
    "# Newton iteration\n",
    "tol = 5e-10\n",
    "F = F_fourier(x, μ, η₀)\n",
    "println(\"Before step #1, ||F||_1 = $(norm(F,1))\")\n",
    "num_itr = 0\n",
    "\n",
    "while num_itr ≤ 100\n",
    "    x = x - DF_fourier(x, μ)\\F\n",
    "    num_itr += 1\n",
    "    F = F_fourier(x, μ, η₀)\n",
    "    println(\"After step #$(num_itr), ||F||_1 = $(norm(F,1))\")\n",
    "    if norm(F,1) < tol\n",
    "        break\n",
    "    end\n",
    "end\n",
    "\n",
    "L = 2π/real(x[1])\n",
    "plot_solution(x, 3)\n",
    "# plot!(u[1, ind:end], u[2, ind:end], legend=false)"
   ]
  },
  {
   "cell_type": "markdown",
   "id": "89641e4b",
   "metadata": {},
   "source": [
    "ニュートン法を反復させることによって、van der Pol方程式の周期解を収束させることができた。"
   ]
  },
  {
   "cell_type": "markdown",
   "id": "91b4eab1-e0aa-4594-b256-de18457071af",
   "metadata": {},
   "source": [
    "### 参考文献\n",
    "1. DifferentialEquations.jl: Scientific Machine Learning (SciML) Enabled Simulation and Estimation (https://diffeq.sciml.ai/stable/)"
   ]
  }
 ],
 "metadata": {
  "kernelspec": {
   "display_name": "Julia 1.6.3",
   "language": "julia",
   "name": "julia-1.6"
  },
  "language_info": {
   "file_extension": ".jl",
   "mimetype": "application/julia",
   "name": "julia",
   "version": "1.6.3"
  }
 },
 "nbformat": 4,
 "nbformat_minor": 5
}
