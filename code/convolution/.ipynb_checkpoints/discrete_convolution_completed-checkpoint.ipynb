{
 "cells": [
  {
   "cell_type": "markdown",
   "metadata": {},
   "source": [
    "# 離散畳み込み(Discrete Convolution)\n",
    "\n",
    "$\\newcommand{\\im}{\\mathrm{i}}$\n",
    "\n",
    "## 離散フーリエ変換(DFT)\n",
    "離散畳み込みを理解するための、第一歩として、離散フーリエ変換を説明する。\n",
    "\n",
    "**定義**　$b = (b_0, \\dots , b_{2M-2}) \\in \\mathbb{C}^{2M-1} $ に対して、$a = \\mathcal{F}(b) \\in \\mathbb{C}^{2M-1}$ を\n",
    "\n",
    "$$\n",
    "a_k = \\mathcal{F}(b) := \\sum_{j=0}^{2M-2} b_j e^{-2\\pi \\im (\\frac{jk}{2M-1}) },\\quad |k|<M\n",
    "$$\n",
    "\n",
    "とし、これを**離散フーリエ変換(DFT)**と呼ぶ。\n",
    "\n",
    "## 逆離散フーリエ変換(IDFT)\n",
    "**定義**　$a = (a_k)_{|k| < M} = (a_{-M+1}, \\dots , a_{M-1}) \\in \\mathbb{C}^{2M-1}$ に対して、$b = \\mathcal{F}^{-1} (a) \\in \\mathbb{C}^{2M-1}$を\n",
    "\n",
    "$$\n",
    "b_j = \\mathcal{F}^{-1} (a) := \\sum_{k = -M+1}^{M-1} a_k e^{2 \\pi \\im (\\frac{jk}{2M-1})} \\quad j=0, \\dots , 2M-2\n",
    "$$\n",
    "\n",
    "とし、**逆離散フーリエ変換(IDFT)**と呼ぶ。\n",
    "\n",
    "**注意**　一般的なDFT/IDFTはスケーリング係数をつけた形で定義されることが多い。この点で上の定義は一般的な定義と違う。"
   ]
  },
  {
   "cell_type": "markdown",
   "metadata": {},
   "source": [
    "## 離散畳み込みのアルゴリズム\n",
    "\n",
    "$u_1, u_2$を周期 $L$ 、変数 $t$ に関する周期関数とし、$\\omega = \\frac{2\\pi}{L}$とする。このとき、$u_1, u_2$をフーリエ級数展開すると、\n",
    "\n",
    "$$\n",
    "    u_1(t) = \\sum_{k \\in \\mathbb{Z}} a_{k}^{(1)} e^{\\im k\\omega t} , \\quad a^{(1)} = (a_{k}^{(1)})_{k \\in \\mathbb{Z}} \\\\\n",
    "    u_2(t) = \\sum_{k \\in \\mathbb{Z}} a_{k}^{(2)} e^{\\im k\\omega t} , \\quad a^{(2)} = (a_{k}^{(2)})_{k \\in \\mathbb{Z}}.\n",
    "$$\n",
    "\n",
    "そして、これらの周期関数の積は、\n",
    "\n",
    "$$\n",
    "    u_1(t)u_2(t) = \\sum_{k \\in \\mathbb{Z}} (a^{(1)}*a^{(2)})_{k}  e^{\\im k\\omega t}\n",
    "$$\n",
    "\n",
    "と表される。ここで $ (a^{(1)}*a^{(2)})_k$ を**離散畳み込み**といい、\n",
    "\n",
    "$$\n",
    "     (a^{(1)}*a^{(2)})_k = \\sum_{k_1 + k_2 = k \\\\ k_1 , k_2 \\in \\mathbb{Z}} a_{k_1}^{(1)} a_{k_2}^{(2)} , \\quad k \\in \\mathbb{Z}\n",
    "$$\n",
    "\n",
    "と表される。\n",
    "\n",
    "\n",
    "さらに、数値計算への応用を意識すると、$u_1, u_2$ のような（有限モードのフーリエ級数で表される）周期関数が $p$ 個($p \\in \\mathbb{N}$)あったとき、\n",
    "\n",
    "$$\n",
    "    u_i(t) = \\sum_{|k| < M} a_{k}^{(i)} e^{\\im k\\omega t} , \\quad a^{(i)} = (a_{k}^{(i)})_{|k| < M} \\quad\n",
    "    i = 1 , \\cdots ,p \\quad M \\in \\mathbb{Z}.\n",
    "$$\n",
    "\n",
    "離散畳み込みはこれらの周期関数の積\n",
    "\n",
    "$$\n",
    "    u_1(t)\\cdots u_p(t) = \\sum_{|k| \\leq p(M-1)}(a^{(1)}* \\cdots *a^{(p)})_k e^{\\im k\\omega t}\n",
    "$$\n",
    "\n",
    "を表す事になる。ここで\n",
    "\n",
    "$$\n",
    "    (a^{(1)}* \\cdots *a^{(p)})_k = \\sum_{k_1 + \\cdots + k_p = k,\\\\ |k| \\leq p(M-1), \\\\ |k_1| , \\cdots ,|k_p|<M} a_{k_1}^{(1)} \\cdots  a_{k_p}^{(p)}\n",
    "$$\n",
    "\n",
    "と表される。\n"
   ]
  },
  {
   "cell_type": "markdown",
   "metadata": {},
   "source": [
    "### 畳み込みの定理\n",
    "畳み込みを離散フーリエ変換したものは、それぞれのフーリエ係数の離散フーリエ変換の積になる。\n",
    "\n",
    "$$\n",
    "\\begin{aligned}\n",
    "    \\mathcal{F}(a^{(1)}* \\cdots *a^{(p)}) &= \\mathcal{F}(a^{(1)})\\hat{\\ast} \\cdots \\hat{\\ast}\\mathcal{F}(a^{(p)}) \\\\\n",
    "    &= b^{(1)}\\hat{\\ast}\\cdots \\hat{\\ast}b^{(p)}\n",
    "\\end{aligned}\n",
    "$$\n",
    "\n",
    "ここで $ b^{(1)}\\hat{\\ast} \\cdots \\hat{\\ast}b^{(p)}$ におけるベクトル同士の積は、要素毎の積を表す。"
   ]
  },
  {
   "cell_type": "markdown",
   "metadata": {},
   "source": [
    "### 離散フーリエ変換を使った畳み込みの計算方法(FFTアルゴリズム) \n",
    "\n",
    "実際の畳み込みの計算方法について説明する。\n",
    "\n",
    "周期$L$、変数$t$の周期関数 $u_i(t)$ が有限項のフーリエ級数\n",
    "\n",
    "$$\n",
    "    u_i(t) = \\sum_{|k|<M} a_{k}^{(i)} e^{\\im k\\omega t} , \\quad a^{(i)} = (a_{k}^{(i)})_{|k|<M} \n",
    "$$\n",
    "\n",
    "で表されているとする。ここで $\\omega = \\frac{2 \\pi}{L}$ とする。このとき、$p$ 個の関数の積\n",
    "\n",
    "$$\n",
    "    u_1(t)\\cdots u_p(t) = \\sum_{|k| \\leq p(M-1)}c_k e^{\\im k\\omega t}\n",
    "$$\n",
    "\n",
    "を表現するフーリエ係数 $(c_k)_{|k| \\leq p(M-1)}$ を以下の計算方法により求める。\n",
    "\n",
    "---\n",
    "\n",
    "**入力**: $a^{(i)} = (a^{(i)}_k)_{|k|<M}\\in\\mathbb{C}^{2M-1} \\quad (i = 1, \\cdots , p)$\n",
    "\n",
    "**step1**: エイリアシングエラーを防ぐために、入力された値 $a^{(i)}$ の両脇に $(p-1)M$ 個の $0$ を付け加える。これを $\\tilde{a}^{(i)}$ と書く。\n",
    "\n",
    "$$\n",
    "    \\tilde{a}^{(i)} = (\\underbrace{0, \\cdots , 0}_{(p-1)M\\text{個}}, \\underbrace{a^{(i)}_{-M+1}, \\cdots , a^{(i)}_{M-1}}_{2M-1\\text{個}},\\underbrace{0, \\cdots , 0}_{(p-1)M\\text{個}}) \\in \\mathbb{C}^{2pM-1}\n",
    "$$\n",
    "\n",
    "**step2**: step1で得た値 $\\tilde{a}^{(i)}$ に対して逆離散フーリエ変換を行う。変換した後の値を $\\tilde{b}^{(i)}$ と置く。\n",
    "\n",
    "$$\n",
    "    \\tilde{b}^{(i)} = \\mathcal{F}^{-1}(\\tilde{a}^{(i)}) \\in \\mathbb{C}^{2pM-1}\n",
    "$$\n",
    "\n",
    "**step3**: $ (\\tilde{b}^{(1)} \\hat{*} \\cdots \\hat{*} \\tilde{b}^{(p)}) $を計算する。上記の畳み込みの定理と同じく、このベクトル同士の積は、要素毎の積を表す。\n",
    "\n",
    "$$\n",
    "    (\\tilde{b}^{(1)} \\hat{*} \\cdots \\hat{*} \\tilde{b}^{(p)} )_{j} = \\tilde{b}^{(1)}_j \\cdots \\tilde{b}^{(p)}_j , \\quad j = 0, \\cdots , 2pM-2\n",
    "$$\n",
    "\n",
    "**step4**: step3で求めた$ (\\tilde{b}^{(1)} \\hat{*} \\cdots \\hat{*} \\tilde{b}^{(p)}) $に対して、離散フーリエ変換を行い、得た値を $2pM-1$ で割る。\n",
    "\n",
    "$$\n",
    "     c_k = \\frac{1}{2pM-1} \\mathcal{F}_k (\\tilde{b}^{(i)} \\tilde{*} \\cdots \\tilde{*} \\tilde{b}^{(p)}) \\quad |k| \\leq p(M-1)\n",
    "$$\n",
    "\n",
    "求めた $c_k$ のうち、実際に必要なのは両脇の $p-1$ 個を取り除いた $|k| \\leq p(M-1)$ 個である。\n",
    "\n",
    "$$\n",
    "    c = (\\underbrace{0, \\cdots , 0}_{(p-1)M\\text{個}}, \\underbrace{a^{(i)}_{-M+1}, \\cdots , a^{(i)}_{M-1}}_{2M-1\\text{個}},\\underbrace{0, \\cdots , 0}_{(p-1)M\\text{個}}) \\in \\mathbb{C}^{2pM-1}\\text{あとまかせた}\n",
    "$$\n",
    "\n",
    "\n",
    "**出力**: $c = (c_k)_{|k|\\le p(M-1)}\\in\\mathbb{C}^{2p(M-1)+1}$\n",
    "\n",
    "---"
   ]
  },
  {
   "cell_type": "markdown",
   "metadata": {},
   "source": [
    "### 具体例\n",
    "適当に周期関数を決めて、離散畳み込みを行ってみる。\n",
    "\n",
    "まずはじめに、以前のフーリエ級数のページで作った関数を定義する。"
   ]
  },
  {
   "cell_type": "code",
   "execution_count": null,
   "metadata": {},
   "outputs": [],
   "source": [
    "using FFTW, Plots\n",
    "\n",
    "function fouriercoeffs(f,N)\n",
    "    h = 2.0π/(2N-1)\n",
    "    xⱼ = h*(0:2N-2)\n",
    "    fⱼ = f.(xⱼ);\n",
    "    return fftshift(fft(fⱼ))/(2N-1)\n",
    "end\n",
    "\n",
    "function plot_fourier(cₖ)\n",
    "    N = (length(cₖ)+1)/2# 2N-1\n",
    "    n_pad = 200\n",
    "    cₖ_pad = [zeros(n_pad);cₖ;zeros(n_pad)]\n",
    "    N_pad = N + n_pad\n",
    "    h_pad = 2.0π/(2N_pad-1)\n",
    "    xⱼ_pad = h_pad*(0:2N_pad-2)\n",
    "    \n",
    "    fᴺⱼ_pad = real((2N_pad-1)*ifft(ifftshift(cₖ_pad)))\n",
    "    plot(xⱼ_pad, fᴺⱼ_pad, legend=false, title = \"Plot f(x)\")\n",
    "end\n",
    "\n",
    "function plot_fourier!(cₖ)\n",
    "    N = (length(cₖ)+1)/2# 2N-1\n",
    "    n_pad = 200\n",
    "    cₖ_pad = [zeros(n_pad);cₖ;zeros(n_pad)]\n",
    "    N_pad = N + n_pad\n",
    "    h_pad = 2.0π/(2N_pad-1)\n",
    "    xⱼ_pad = h_pad*(0:2N_pad-2)\n",
    "    \n",
    "    fᴺⱼ_pad = real((2N_pad-1)*ifft(ifftshift(cₖ_pad)))\n",
    "    plot!(xⱼ_pad, fᴺⱼ_pad, legend=false, title = \"Plot f(x)\")\n",
    "end"
   ]
  },
  {
   "cell_type": "markdown",
   "metadata": {},
   "source": [
    "周期関数を $f(x)=\\frac{\\exp(\\sin(5x))}{1+\\sin(\\cos(x))}$ と決めて、畳み込みを行う。\n",
    "\n"
   ]
  },
  {
   "cell_type": "code",
   "execution_count": null,
   "metadata": {},
   "outputs": [],
   "source": [
    "#f(x)の概形\n",
    "\n",
    "f(x) = exp(sin(5x))/(1+sin(cos(x)))\n",
    "plot(f,0,2π)"
   ]
  },
  {
   "cell_type": "markdown",
   "metadata": {},
   "source": [
    "`ApproxFun.jl`で $f(x)$ を近似してみると、グラフは下のようになる。"
   ]
  },
  {
   "cell_type": "code",
   "execution_count": null,
   "metadata": {},
   "outputs": [],
   "source": [
    "using ApproxFun, FFTW\n",
    "fc = Fun(f,Laurent())\n",
    "plot(real(fc))"
   ]
  },
  {
   "cell_type": "markdown",
   "metadata": {},
   "source": [
    "フーリエ係数を比較すると一致することが確認できる。"
   ]
  },
  {
   "cell_type": "code",
   "execution_count": null,
   "metadata": {},
   "outputs": [],
   "source": [
    "m = ncoefficients(fc)\n",
    "M = Int((m+1)/2)\n",
    "c = coefficients(fc) # coefficients of ApproxFun\n",
    "function index_shift(c) # convert c -> fourier coeffs\n",
    "    return [reverse(c[2:2:end]);c[1:2:end]]\n",
    "end\n",
    "a = fouriercoeffs(f,M)  #150を72にすると重なる。(要素数が一緒だから)\n",
    "plot(abs.(a),yscale=:log10,label=\"computed via FFT\")\n",
    "plot!(abs.(index_shift(c)),yscale=:log10,label = \"ApproxFun\")"
   ]
  },
  {
   "cell_type": "markdown",
   "metadata": {},
   "source": [
    "この周期関数の2乗をする場合の畳み込みについて考えてみよう。2乗した関数の概形は、"
   ]
  },
  {
   "cell_type": "code",
   "execution_count": null,
   "metadata": {},
   "outputs": [],
   "source": [
    "plot(real(fc)^2)"
   ]
  },
  {
   "cell_type": "markdown",
   "metadata": {},
   "source": [
    "一方、FFTアルゴリズムを用いて2乗した関数のフーリエ係数を求め、得たフーリエ級数の概形をプロットすると次のようになる。"
   ]
  },
  {
   "cell_type": "code",
   "execution_count": null,
   "metadata": {},
   "outputs": [],
   "source": [
    "# FFT Algorithm\n",
    "p = 2\n",
    "N = (p-1)*M\n",
    "ta = [zeros(N,1);a;zeros(N,1)] # 1. Padding zeros\n",
    "tb = ifft(ifftshift(ta)) # 2. IFFT of ta\n",
    "tbᵖ = tb.^p # 3. tb*^tb\n",
    "cᵖ = fftshift(fft(tbᵖ))*(2.0*p*M-1)^(p-1) # 4. FFT of tb2 \n",
    "\n",
    "plot_fourier!(cᵖ)"
   ]
  },
  {
   "cell_type": "markdown",
   "metadata": {},
   "source": [
    "二つの概形が一致しているのが分かる（水色と赤の曲線がほぼ一致している）。次に、このプログラムを関数化してみよう。"
   ]
  },
  {
   "cell_type": "code",
   "execution_count": null,
   "metadata": {},
   "outputs": [],
   "source": [
    "# f(x) = (exp(sin(5x)))^2/((1+sin(cos(x))))^2\n",
    "using SpecialFunctions\n",
    "f(x) = erf(sin(3x)+cos(2x))^4\n",
    "plot(f , 0 , 2π)"
   ]
  },
  {
   "cell_type": "markdown",
   "metadata": {},
   "source": [
    "関数が与えられたら、そのフーリエ係数を計算する`fouriercoeffs`を使って得たフーリエ係数の離散畳み込み（`powerconvfourier`）を計算することで、関数の冪乗を計算できる。解の概形を重ねてプロットするとほぼ一致している様子がわかる。"
   ]
  },
  {
   "cell_type": "code",
   "execution_count": null,
   "metadata": {},
   "outputs": [],
   "source": [
    "M = 150\n",
    "p = 2\n",
    "f(x) = erf(sin(3x)+cos(2x))^4\n",
    "g(x) = f(x)^p\n",
    "plot(g , 0 , 2π)\n",
    "\n",
    "a = fouriercoeffs(f,M) # size(a) = 2M-1\n",
    "# plot(abs.(a),yscale=:log10,)\n",
    "\n",
    "\n",
    "function powerconvfourier(a::Vector{Complex{T}},p) where T\n",
    "    M = Int((length(a)+1)/2)\n",
    "    N = (p-1)*M\n",
    "    ta = [zeros(N,1);a;zeros(N,1)] # 1. Padding zeros: size(ta) = 2pM-1\n",
    "    tb = ifft(ifftshift(ta)) # 2. IFFT of ta\n",
    "    tbᵖ = tb.^p # 3. tb*^tb\n",
    "    cᵖ = fftshift(fft(tbᵖ))*(2.0*p*M-1)^(p-1)\n",
    "    return cᵖ[N+1:end-N], cᵖ[p:end-(p-1)]# return (truncated, full) version\n",
    "end\n",
    "\n",
    "ap, ap_full = powerconvfourier(a,p)\n",
    "\n",
    "plot_fourier!(ap_full)\n",
    "\n",
    "# plot(abs.(ap),yscale=:log10,)\n",
    "# plot!(abs.(ap_full),yscale=:log10,)"
   ]
  },
  {
   "cell_type": "markdown",
   "metadata": {},
   "source": [
    "### 離散畳み込みの精度保証付き数値計算\n",
    "これから、離散畳み込みの精度保証を行う。離散畳み込みのアルゴリズムには、FFTが含まれるため、まず、FFTの精度保証を行うための関数を定義しよう。"
   ]
  },
  {
   "cell_type": "code",
   "execution_count": null,
   "metadata": {},
   "outputs": [],
   "source": [
    "using IntervalArithmetic:Interval\n",
    "\n",
    "function verifyfft(z::Vector{T}, sign=1) where T\n",
    "    n = length(z); col = 1; array1 = true\n",
    "    if n==1\n",
    "        Z = map(T,z)\n",
    "        return Z\n",
    "    else\n",
    "        isrow_ = false\n",
    "    end\n",
    "    log2n = Int(round(log2(n))) #check dimension\n",
    "    if 2^log2n ≠ n #2の倍数でない場合はエラー表示\n",
    "        error(\"length must be power of 2\")\n",
    "    end\n",
    "    #bit-reversal(ビットリバース)\n",
    "    f = 2^(log2n-1)\n",
    "    v = [0;f]\n",
    "    for k = 1:log2n-1\n",
    "#         f = 0.5*f\n",
    "        f = f >> 1\n",
    "        v = append!(v,f.+v)\n",
    "    end\n",
    "    z2 = zeros(n,col)\n",
    "    if isa(real(z[1]),Interval)\n",
    "        z2 = map(T,z2)\n",
    "    end\n",
    "    #zを入れ替え\n",
    "    for j = 1: n\n",
    "        z2[j,:] = z[v[j]+1,:]\n",
    "    end\n",
    "    #Danielson-Lanczos algorithm\n",
    "    Z = complex(map(Interval,z2))\n",
    "    Index = reshape([1:n*col;],n,col)\n",
    "\n",
    "    theta = map(Interval,sign * (0:n-1)/n); # division exact because n is power of 2\n",
    "    Phi = cospi.(theta) + im*sinpi.(theta) # SLOW?\n",
    "\n",
    "    v = [1:2:n;]\n",
    "    w = [2:2:n;]\n",
    "    t = Z[w,:]\n",
    "    Z[w,:]  = Z[v,:] - t\n",
    "    Z[v,:]  = Z[v,:] + t\n",
    "    for index　in 1: (log2n-1)    \n",
    "        m = 2^index\n",
    "        m2 = 2*m\n",
    "        vw = reshape([1:n;],m2,Int(n/m2))\n",
    "        v = vw[1: m, :]\n",
    "        w = vw[m+1: m2, : ]\n",
    "        indexv = reshape(Index[v[:],:],m,Int(col*n/m2))\n",
    "        indexw = reshape(Index[w[:],:],m,Int(col*n/m2))\n",
    "        Phi1 = repeat(Phi[1:Int(n/m):end],outer=[1,Int(col*n/m2)])\n",
    "        t = Phi1 .*  Z[indexw]\n",
    "        Z[indexw] = Z[indexv] - t \n",
    "        Z[indexv] = Z[indexv] + t\n",
    "    end\n",
    "    reverse(Z[2:end,:],dims=2)\n",
    "     if sign==-1\n",
    "        Z = Z/n\n",
    "    end\n",
    "    if isrow_\n",
    "        Z = transpose(Z)　#転置\n",
    "    end\n",
    "    if array1\n",
    "        Z = Z[:,1]\n",
    "    end\n",
    "    return Z\n",
    "end"
   ]
  },
  {
   "cell_type": "code",
   "execution_count": null,
   "metadata": {},
   "outputs": [],
   "source": [
    "M = 150\n",
    "p = 2\n",
    "f(x) = erf(sin(3x)+cos(2x))^4\n",
    "g(x) = f(x)^p\n",
    "\n",
    "a = fouriercoeffs(f,M) # size(a) = 2M-1\n",
    "# plot(abs.(a),yscale=:log10,)\n",
    "\n",
    "ia = map(Interval, a)\n",
    "\n",
    "length_ia = 2M-1\n",
    "length_ia_ext = nextpow(2,length_ia)\n",
    "n = Int((length_ia_ext - length_ia + 1)/2) # 2n-1\n",
    "ia_ext = map(Interval,im*zeros(length_ia_ext))\n",
    "ia_ext[n+1:end-n+1] = ia\n",
    "verifyfft(ia_ext,1)# sign = 1(fft), -1(ifft)\n"
   ]
  },
  {
   "cell_type": "markdown",
   "metadata": {},
   "source": [
    "`verifyfft`は、要素数が2のべき乗の場合しか実行できないので、step1のpaddingの部分で要素数を調整する。"
   ]
  },
  {
   "cell_type": "markdown",
   "metadata": {},
   "source": [
    "$$\n",
    "\\tilde{a}=(\\underbrace{0, \\cdots , 0}_{L\\text{個}},\\underbrace{0, \\cdots , 0}_{N=(p-1)M\\text{個}}, \\underbrace{a_{-M+1}, \\cdots , a_{M-1}}_{2M-1\\text{個}},\\underbrace{0, \\cdots , 0}_{N\\text{個}},\\underbrace{0, \\cdots , 0}_{L-1\\text{個}}) \\in \\mathbb{C}^{2pM-2+2L}\n",
    "$$\n",
    "\n",
    "$$\n",
    "c=(\\underbrace{0, \\cdots , 0}_{L\\text{個}},\\underbrace{0, \\cdots , 0}_{(p-1)\\text{個}}, \\underbrace{a_{-p(M-1)}, \\cdots , a_{p(M-1)}}_{2p(M-1)+1\\text{個}},\\underbrace{0, \\cdots , 0}_{(p-1)\\text{個}},\\underbrace{0, \\cdots , 0}_{L-1\\text{個}}) \\in \\mathbb{C}^{2pM-2+2L}\n",
    "$$"
   ]
  },
  {
   "cell_type": "markdown",
   "metadata": {},
   "source": [
    "step1の`ia_ext`が上の $\\tilde{a}$ を指し、`ic_ext`が $c$ である。2のべき乗になるようにpaddingした分、関数の最後に取り出す値の範囲に注意する。\n",
    "また、区間演算とベクトル、両方の型に対応できるように、多重ディスパッチを利用する関数を用意した。"
   ]
  },
  {
   "cell_type": "code",
   "execution_count": null,
   "metadata": {},
   "outputs": [],
   "source": [
    "function powerconvfourier(a::Vector{Complex{Interval{T}}},p) where T\n",
    "    M = Int((length(a)+1)/2) # length(a) = 2M-1\n",
    "    N = (p-1)*M\n",
    "    ia = map(Interval, a)\n",
    "\n",
    "    length_ia = 2*p*M-1\n",
    "    length_ia_ext = nextpow(2,length_ia)# 2pM-2+2L\n",
    "    \n",
    "    L = Int((length_ia_ext - length_ia + 1)/2)\n",
    "    \n",
    "    # step.1 : padding (p-1)M + L zeros for each sides\n",
    "    ia_ext = map(Complex{Interval},zeros(length_ia_ext))\n",
    "    ia_ext[L+N+1:end-L-N+1] = ia  #\\tilda{a}\n",
    "\n",
    "    # step.2 : inverse fft\n",
    "    ib_ext = verifyfft(ifftshift(ia_ext), -1) #sign = -1 : ifft\n",
    "    \n",
    "    # step.3 : power p elementwisely\n",
    "    ib_extᵖ = ib_ext.^p\n",
    "    \n",
    "    # step.4 : fft with rescaling\n",
    "    ic_extᵖ = fftshift(verifyfft(ib_extᵖ, 1)) * length_ia_ext^(p-1)  #sign = 1 : fft\n",
    "    \n",
    "#     return ic_extᵖ,ic_extᵖ\n",
    "    return ic_extᵖ[L+N+1:end-N-L+1], ic_extᵖ[L+p:end-(L+p-2)] # return (truncated, full) version\n",
    "end\n"
   ]
  },
  {
   "cell_type": "code",
   "execution_count": null,
   "metadata": {},
   "outputs": [],
   "source": [
    "c,c_full = powerconvfourier(a,2);\n",
    "ic,ic_full = powerconvfourier(ia,2);# 多重ディスパッチ"
   ]
  },
  {
   "cell_type": "markdown",
   "metadata": {},
   "source": [
    "区間演算は、数値計算で得た値の範囲全体を含むため、ic_full $\\in$ c_fullが成り立つ。\n",
    "\n",
    "また、下の図からテイルに$10^{-15}$ほどの誤差が含まれていることがわかる。"
   ]
  },
  {
   "cell_type": "code",
   "execution_count": null,
   "metadata": {},
   "outputs": [],
   "source": [
    "using IntervalArithmetic:mid\n",
    "@show c_full .∈ ic_full\n",
    "plot(abs.(c_full),yscale=:log10,label=\"non-rigorous\")\n",
    "plot!(mid.(abs.(ic_full)),yscale=:log10,label=\"rigorous\")"
   ]
  },
  {
   "cell_type": "markdown",
   "metadata": {},
   "source": [
    "### 参考文献\n",
    "\n",
    "1. Jan Bouwe van den Berg, Jean-Philippe Lessard,Rigorous Numerics in Dynamics, American Mathmatical Society, Vol.74 2018\n",
    "\n",
    "1. J.-P. Lessard. Computing discrete convolutions with verified accuracy via Banach algebras and the FFT. Applications of Mathematics, 63(3):219–235, Jun 2018.\n",
    "\n",
    "1. Juliaで精度保証付き高速フーリエ変換\n",
    "(https://www.risk.tsukuba.ac.jp/~takitoshi/tutorial/verifyfft.html)\n",
    "1. S. Rump. INTLAB - INTerval LABoratory. In T. Csendes, editor, Developments in Reliable Computing, pages 77–104. Kluwer Academic Publishers, Dordrecht, 1999. http://www.ti3.tuharburg.de/rump/."
   ]
  }
 ],
 "metadata": {
  "kernelspec": {
   "display_name": "Julia 1.6.3",
   "language": "julia",
   "name": "julia-1.6"
  },
  "language_info": {
   "file_extension": ".jl",
   "mimetype": "application/julia",
   "name": "julia",
   "version": "1.6.3"
  }
 },
 "nbformat": 4,
 "nbformat_minor": 4
}
